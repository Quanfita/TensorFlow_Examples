{
 "cells": [
  {
   "cell_type": "code",
   "execution_count": 1,
   "metadata": {
    "collapsed": true
   },
   "outputs": [],
   "source": [
    "import collections\n",
    "import math\n",
    "import os\n",
    "import random\n",
    "import zipfile\n",
    "import numpy as np\n",
    "import urllib\n",
    "import tensorflow as tf"
   ]
  },
  {
   "cell_type": "code",
   "execution_count": 2,
   "metadata": {},
   "outputs": [
    {
     "name": "stdout",
     "output_type": "stream",
     "text": [
      "Found and verified text8.zip\n"
     ]
    }
   ],
   "source": [
    "url = 'http://mattmahoney.net/dc/'\n",
    "\n",
    "def maybe_download(filename,expected_bytes):\n",
    "    if not os.path.exists(filename):\n",
    "        filename,_ = urllib.request.urlretrieve(url + filename,filename)\n",
    "    statinfo = os.stat(filename)\n",
    "    if statinfo.st_size == expected_bytes:\n",
    "        print('Found and verified',filename)\n",
    "    else:\n",
    "        print(statinfo.st_size)\n",
    "        raise Exception('Failed to verify '+filename+'.Can you get to it with a browser?')\n",
    "    return filename\n",
    "\n",
    "filename = maybe_download('text8.zip',31344016)"
   ]
  },
  {
   "cell_type": "code",
   "execution_count": 3,
   "metadata": {},
   "outputs": [
    {
     "name": "stdout",
     "output_type": "stream",
     "text": [
      "Data size 17005207\n"
     ]
    }
   ],
   "source": [
    "def read_data(filename):\n",
    "    with zipfile.ZipFile(filename) as f:\n",
    "        data = tf.compat.as_str(f.read(f.namelist()[0])).split()\n",
    "    return data\n",
    "\n",
    "words = read_data(filename)\n",
    "print('Data size',len(words))"
   ]
  },
  {
   "cell_type": "code",
   "execution_count": 4,
   "metadata": {
    "collapsed": true
   },
   "outputs": [],
   "source": [
    "vocabulary_size = 50000\n",
    "\n",
    "def build_dataset(words):\n",
    "    count = [['UNK',-1]]\n",
    "    count.extend(collections.Counter(words).most_common(vocabulary_size - 1))\n",
    "    dictionary = dict()\n",
    "    for word,_ in count:\n",
    "        dictionary[word] = len(dictionary)\n",
    "    data = list()\n",
    "    unk_count = 0\n",
    "    for word in words:\n",
    "        if word in dictionary:\n",
    "            index = dictionary[word]\n",
    "        else:\n",
    "            index = 0\n",
    "            unk_count += 1\n",
    "        data.append(index)\n",
    "    count[0][1] = unk_count\n",
    "    reverse_dictionary = dict(zip(dictionary.values(),dictionary.keys()))\n",
    "    return data,count,dictionary,reverse_dictionary\n",
    "\n",
    "data,count,dictionary,reverse_dictionary = build_dataset(words)"
   ]
  },
  {
   "cell_type": "code",
   "execution_count": 5,
   "metadata": {},
   "outputs": [
    {
     "name": "stdout",
     "output_type": "stream",
     "text": [
      "Most common words (+UNK) [['UNK', 418391], ('the', 1061396), ('of', 593677), ('and', 416629), ('one', 411764)]\n",
      "Sample data [5239, 3081, 12, 6, 195, 2, 3137, 46, 59, 156] ['anarchism', 'originated', 'as', 'a', 'term', 'of', 'abuse', 'first', 'used', 'against']\n"
     ]
    }
   ],
   "source": [
    "del words\n",
    "print('Most common words (+UNK)',count[:5])\n",
    "print('Sample data',data[:10],[reverse_dictionary[i] for i in data[:10]])"
   ]
  },
  {
   "cell_type": "code",
   "execution_count": 6,
   "metadata": {
    "collapsed": true
   },
   "outputs": [],
   "source": [
    "data_index = 0\n",
    "\n",
    "def generate_batch(batch_size,num_skips,skip_window):\n",
    "    global data_index\n",
    "    assert batch_size % num_skips == 0\n",
    "    assert num_skips <= 2*skip_window\n",
    "    batch = np.ndarray(shape=(batch_size),dtype=np.int32)\n",
    "    labels = np.ndarray(shape=(batch_size,1),dtype=np.int32)\n",
    "    span = 2*skip_window + 1\n",
    "    buffer = collections.deque(maxlen=span)\n",
    "    \n",
    "    for _ in range(span):\n",
    "        buffer.append(data[data_index])\n",
    "        data_index = (data_index + 1) % len(data)\n",
    "    for i in range(batch_size // num_skips):\n",
    "        target = skip_window\n",
    "        targets_to_avoid = [skip_window]\n",
    "        for j in range(num_skips):\n",
    "            while target in targets_to_avoid:\n",
    "                target = random.randint(0,span-1)\n",
    "            targets_to_avoid.append(target)\n",
    "            batch[i*num_skips+j] = buffer[skip_window]\n",
    "            labels[i*num_skips+j,0] = buffer[target]\n",
    "        buffer.append(data[data_index])\n",
    "        data_index = (data_index + 1) % len(data)\n",
    "    return batch,labels"
   ]
  },
  {
   "cell_type": "code",
   "execution_count": 7,
   "metadata": {},
   "outputs": [
    {
     "name": "stdout",
     "output_type": "stream",
     "text": [
      "3081 originated -> 5239 anarchism\n",
      "3081 originated -> 12 as\n",
      "12 as -> 3081 originated\n",
      "12 as -> 6 a\n",
      "6 a -> 195 term\n",
      "6 a -> 12 as\n",
      "195 term -> 2 of\n",
      "195 term -> 6 a\n"
     ]
    }
   ],
   "source": [
    "batch,labels = generate_batch(batch_size=8,\n",
    "                              num_skips=2,skip_window=1)\n",
    "for i in range(8):\n",
    "    print(batch[i],reverse_dictionary[batch[i]],'->',labels[i,0],\n",
    "         reverse_dictionary[labels[i,0]])"
   ]
  },
  {
   "cell_type": "code",
   "execution_count": 8,
   "metadata": {
    "collapsed": true
   },
   "outputs": [],
   "source": [
    "batch_size = 128\n",
    "embedding_size = 128\n",
    "skip_window = 1\n",
    "num_skips = 2\n",
    "\n",
    "valid_size = 16\n",
    "valid_window = 100\n",
    "valid_examples = np.random.choice(valid_window,valid_size,replace=False)\n",
    "num_sampled = 64"
   ]
  },
  {
   "cell_type": "code",
   "execution_count": 9,
   "metadata": {
    "collapsed": true
   },
   "outputs": [],
   "source": [
    "graph = tf.Graph()\n",
    "\n",
    "with graph.as_default():\n",
    "    train_inputs = tf.placeholder(tf.int32,shape=[batch_size])\n",
    "    train_labels = tf.placeholder(tf.int32,shape=[batch_size,1])\n",
    "    valid_dataset = tf.constant(valid_examples,dtype=tf.int32)\n",
    "    \n",
    "    with tf.device('/cpu:0'):\n",
    "        embeddings = tf.Variable(tf.random_uniform([vocabulary_size,embedding_size],-1.0,1.0))\n",
    "        embed = tf.nn.embedding_lookup(embeddings,train_inputs)\n",
    "    \n",
    "        nce_weights = tf.Variable(tf.truncated_normal([vocabulary_size,embedding_size],\n",
    "                                                 stddev=1.0/math.sqrt(embedding_size)))\n",
    "        nce_biases = tf.Variable(tf.zeros([vocabulary_size]))\n",
    "    \n",
    "    loss = tf.reduce_mean(tf.nn.nce_loss(weights=nce_weights,\n",
    "                                    biases=nce_biases,\n",
    "                                    labels = train_labels,\n",
    "                                    inputs=embed,\n",
    "                                    num_sampled=num_sampled,\n",
    "                                    num_classes=vocabulary_size))\n",
    "\n",
    "    optimizer = tf.train.GradientDescentOptimizer(1.0).minimize(loss)\n",
    "\n",
    "    norm = tf.sqrt(tf.reduce_sum(tf.square(embeddings),1,keep_dims=True))\n",
    "    normalized_embeddings = embeddings / norm\n",
    "    valid_embeddings = tf.nn.embedding_lookup(normalized_embeddings,valid_dataset)\n",
    "    similarity = tf.matmul(valid_embeddings,normalized_embeddings,transpose_b=True)\n",
    "\n",
    "    init = tf.global_variables_initializer()"
   ]
  },
  {
   "cell_type": "code",
   "execution_count": 10,
   "metadata": {},
   "outputs": [
    {
     "name": "stdout",
     "output_type": "stream",
     "text": [
      "Initialized\n",
      "Average loss at step  0 : 307.676177979\n",
      "Nearest to for: enchanter, devouring, gravitationally, dramatized, llama, derails, purports, harassed,\n",
      "Average loss at step  2000 : 113.263213119\n",
      "Average loss at step  4000 : 53.1200702507\n",
      "Average loss at step  6000 : 33.3573510914\n",
      "Average loss at step  8000 : 23.3337893765\n",
      "Average loss at step  10000 : 17.9309961939\n",
      "Nearest to for: and, of, with, in, as, diverse, is, market,\n",
      "Average loss at step  12000 : 13.9507013052\n",
      "Average loss at step  14000 : 11.6964040691\n",
      "Average loss at step  16000 : 9.98262194085\n",
      "Average loss at step  18000 : 8.74665930533\n",
      "Average loss at step  20000 : 7.8633848151\n",
      "Nearest to for: with, and, in, of, as, by, is, from,\n",
      "Average loss at step  22000 : 7.27081333411\n",
      "Average loss at step  24000 : 6.89668521619\n",
      "Average loss at step  26000 : 6.72726462281\n",
      "Average loss at step  28000 : 6.25707442379\n",
      "Average loss at step  30000 : 6.18758660388\n",
      "Nearest to for: with, in, of, and, as, amalthea, from, to,\n",
      "Average loss at step  32000 : 5.8514044745\n",
      "Average loss at step  34000 : 5.84624452674\n",
      "Average loss at step  36000 : 5.70735040045\n",
      "Average loss at step  38000 : 5.28306650531\n",
      "Average loss at step  40000 : 5.4678978169\n",
      "Nearest to for: with, in, of, amalthea, to, from, and, on,\n",
      "Average loss at step  42000 : 5.3254930867\n",
      "Average loss at step  44000 : 5.26905800557\n",
      "Average loss at step  46000 : 5.28008716011\n",
      "Average loss at step  48000 : 5.03147090828\n",
      "Average loss at step  50000 : 5.14342603636\n",
      "Nearest to for: in, with, from, of, and, after, if, or,\n",
      "Average loss at step  52000 : 5.14898954606\n",
      "Average loss at step  54000 : 5.10196486199\n",
      "Average loss at step  56000 : 5.07043782175\n",
      "Average loss at step  58000 : 5.13009105527\n",
      "Average loss at step  60000 : 4.95509712839\n",
      "Nearest to for: of, in, or, and, with, decreed, amalthea, rodin,\n",
      "Average loss at step  62000 : 4.78481581259\n",
      "Average loss at step  64000 : 4.79201720631\n",
      "Average loss at step  66000 : 4.96914986122\n",
      "Average loss at step  68000 : 4.92642668927\n",
      "Average loss at step  70000 : 4.77250986826\n",
      "Nearest to for: in, if, of, decreed, amalthea, linkages, with, rodin,\n",
      "Average loss at step  72000 : 4.80957582116\n",
      "Average loss at step  74000 : 4.76704947245\n",
      "Average loss at step  76000 : 4.87341689026\n",
      "Average loss at step  78000 : 4.8026010344\n",
      "Average loss at step  80000 : 4.81480985296\n",
      "Nearest to for: in, or, if, decreed, fluke, with, of, linkages,\n",
      "Average loss at step  82000 : 4.81298849964\n",
      "Average loss at step  84000 : 4.79410072756\n",
      "Average loss at step  86000 : 4.75896752739\n",
      "Average loss at step  88000 : 4.69271347046\n",
      "Average loss at step  90000 : 4.76094110274\n",
      "Nearest to for: of, or, with, linkages, in, when, including, to,\n",
      "Average loss at step  92000 : 4.70966630924\n",
      "Average loss at step  94000 : 4.62496341258\n",
      "Average loss at step  96000 : 4.74096604645\n",
      "Average loss at step  98000 : 4.62362238944\n",
      "Average loss at step  100000 : 4.67280277061\n",
      "Nearest to for: or, if, amalthea, when, decreed, hbf, oath, in,\n"
     ]
    }
   ],
   "source": [
    "num_steps = 100001\n",
    "\n",
    "with tf.Session(graph=graph) as session:\n",
    "    init.run()\n",
    "    print(\"Initialized\")\n",
    "    \n",
    "    average_loss = 0\n",
    "    for step in range(num_steps):\n",
    "        batch_inputs,batch_labels = generate_batch(batch_size,num_skips,skip_window)\n",
    "        feed_dict = {train_inputs:batch_inputs,train_labels:batch_labels}\n",
    "        \n",
    "        _,loss_val = session.run([optimizer,loss],feed_dict=feed_dict)\n",
    "        average_loss += loss_val\n",
    "        \n",
    "        if step % 2000 == 0:\n",
    "            if step > 0:\n",
    "                average_loss /= 2000\n",
    "            print(\"Average loss at step \",step,\":\",average_loss)\n",
    "            average_loss = 0\n",
    "        \n",
    "        if step % 10000 == 0:\n",
    "            sim = similarity.eval()\n",
    "            for i in range(valid_size):\n",
    "                valid_word = reverse_dictionary[valid_examples[i]]\n",
    "                top_k = 8\n",
    "                nearest = (-sim[i,:]).argsort()[1:top_k+1]\n",
    "                log_str = \"Nearest to %s:\"% valid_word\n",
    "                \n",
    "            for k in range(top_k):\n",
    "                close_word = reverse_dictionary[nearest[k]]\n",
    "                log_str = \"%s %s,\" % (log_str,close_word)\n",
    "            print(log_str)\n",
    "    final_embeddings = normalized_embeddings.eval()"
   ]
  },
  {
   "cell_type": "code",
   "execution_count": 13,
   "metadata": {
    "collapsed": true
   },
   "outputs": [],
   "source": [
    "def plot_with_labels(low_dim_embs,labels,filename='tsne.png'):\n",
    "    assert low_dim_embs.shape[0] >= len(labels),\"More labels than embedding\"\n",
    "    plt.figure(figsize=(18,18))\n",
    "    for i,label in enumerate(labels):\n",
    "        x,y = low_dim_embs[i,:]\n",
    "        plt.scatter(x,y)\n",
    "        plt.annotate(label,\n",
    "                    xy=(x,y),\n",
    "                    xytext=(5,2),\n",
    "                    textcoords='offset points',\n",
    "                    ha='right',\n",
    "                    va='bottom')\n",
    "    plt.savefig(filename)"
   ]
  },
  {
   "cell_type": "code",
   "execution_count": 14,
   "metadata": {
    "collapsed": true
   },
   "outputs": [],
   "source": [
    "from sklearn.manifold import TSNE\n",
    "import matplotlib.pyplot as plt\n",
    "tsne = TSNE(perplexity=30,n_components=2,init='pca',n_iter=5000)\n",
    "plot_only = 100\n",
    "low_dim_embs = tsne.fit_transform(final_embeddings[:plot_only,:])\n",
    "labels = [reverse_dictionary[i] for i in range(plot_only)]\n",
    "plot_with_labels(low_dim_embs,labels)"
   ]
  },
  {
   "cell_type": "code",
   "execution_count": null,
   "metadata": {
    "collapsed": true
   },
   "outputs": [],
   "source": []
  }
 ],
 "metadata": {
  "kernelspec": {
   "display_name": "Python 3",
   "language": "python",
   "name": "python3"
  },
  "language_info": {
   "codemirror_mode": {
    "name": "ipython",
    "version": 3
   },
   "file_extension": ".py",
   "mimetype": "text/x-python",
   "name": "python",
   "nbconvert_exporter": "python",
   "pygments_lexer": "ipython3",
   "version": "3.6.1"
  }
 },
 "nbformat": 4,
 "nbformat_minor": 2
}
