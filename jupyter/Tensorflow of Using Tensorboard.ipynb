{
 "cells": [
  {
   "cell_type": "code",
   "execution_count": 6,
   "metadata": {},
   "outputs": [
    {
     "name": "stdout",
     "output_type": "stream",
     "text": [
      "Extracting MNIST_data\\train-images-idx3-ubyte.gz\n",
      "Extracting MNIST_data\\train-labels-idx1-ubyte.gz\n",
      "Extracting MNIST_data\\t10k-images-idx3-ubyte.gz\n",
      "Extracting MNIST_data\\t10k-labels-idx1-ubyte.gz\n"
     ]
    }
   ],
   "source": [
    "import tensorflow as tf\n",
    "from tensorflow.examples.tutorials.mnist import input_data\n",
    "max_steps = 1000\n",
    "learning_rate = 0.001\n",
    "dropout = 0.9\n",
    "data_dir = 'MNIST_data'\n",
    "log_dir = 'MNIST_data/logs/mnist_with_summaries'\n",
    "\n",
    "mnist = input_data.read_data_sets(data_dir,one_hot=True)\n",
    "sess = tf.InteractiveSession()"
   ]
  },
  {
   "cell_type": "code",
   "execution_count": 2,
   "metadata": {
    "collapsed": true
   },
   "outputs": [],
   "source": [
    "with tf.name_scope('input'):\n",
    "    x = tf.placeholder(tf.float32,[None,784],name='x-input')\n",
    "    y_ = tf.placeholder(tf.float32,[None,10],name='y-input')\n",
    "    \n",
    "with tf.name_scope('input_reshape'):\n",
    "    image_shaped_input = tf.reshape(x,[-1,28,28,1])\n",
    "    tf.summary.image('input',image_shaped_input,10)"
   ]
  },
  {
   "cell_type": "code",
   "execution_count": 3,
   "metadata": {
    "collapsed": true
   },
   "outputs": [],
   "source": [
    "def weight_variable(shape):\n",
    "    initial = tf.truncated_normal(shape,stddev=0.1)\n",
    "    return tf.Variable(initial)\n",
    "\n",
    "def bias_variable(shape):\n",
    "    initial = tf.constant(0.1,shape=shape)\n",
    "    return tf.Variable(initial)\n",
    "\n",
    "def variable_summaries(var):\n",
    "    with tf.name_scope('summaries'):\n",
    "        mean = tf.reduce_mean(var)\n",
    "        tf.summary.scalar('mean',mean)\n",
    "        with tf.name_scope('stddev'):\n",
    "            stddev = tf.sqrt(tf.reduce_mean(tf.square(var - mean)))\n",
    "        tf.summary.scalar('stddev',stddev)\n",
    "        tf.summary.scalar('max',tf.reduce_max(var))\n",
    "        tf.summary.scalar('min',tf.reduce_min(var))\n",
    "        tf.summary.histogram('histogram',var)"
   ]
  },
  {
   "cell_type": "code",
   "execution_count": 6,
   "metadata": {
    "collapsed": true
   },
   "outputs": [],
   "source": [
    "def nn_layer(input_tensor,input_dim,output_dim,layer_name,act=tf.nn.relu):\n",
    "    with tf.name_scope(layer_name):\n",
    "        with tf.name_scope('weights'):\n",
    "            weights = weight_variable([input_dim,output_dim])\n",
    "            variable_summaries(weights)\n",
    "        with tf.name_scope('biases'):\n",
    "            biases = bias_variable([output_dim])\n",
    "            variable_summaries(biases)\n",
    "        with tf.name_scope('Wx_plus_b'):\n",
    "            preactivate = tf.matmul(input_tensor,weights) + biases\n",
    "            tf.summary.histogram('pre_activation',preactivate)\n",
    "        activations = act(preactivate,name='activation')\n",
    "        tf.summary.histogram('activations',activations)\n",
    "        return activations"
   ]
  },
  {
   "cell_type": "code",
   "execution_count": 7,
   "metadata": {},
   "outputs": [
    {
     "data": {
      "text/plain": [
       "<tf.Tensor 'accuracy_1:0' shape=() dtype=string>"
      ]
     },
     "execution_count": 7,
     "metadata": {},
     "output_type": "execute_result"
    }
   ],
   "source": [
    "hidden1 = nn_layer(x,784,500,'layer1')\n",
    "\n",
    "with tf.name_scope('dropout'):\n",
    "    keep_prob = tf.placeholder(tf.float32)\n",
    "    tf.summary.scalar('dropout_keep_probaility',keep_prob)\n",
    "    dropped = tf.nn.dropout(hidden1,keep_prob)\n",
    "    \n",
    "y = nn_layer(dropped,500,10,'layer2',act=tf.identity)\n",
    "with tf.name_scope('cross_entropy'):\n",
    "    diff = tf.nn.softmax_cross_entropy_with_logits(logits=y,labels=y_)\n",
    "    with tf.name_scope('total'):\n",
    "        cross_entropy = tf.reduce_mean(diff)\n",
    "tf.summary.scalar('cross_entropy',cross_entropy)\n",
    "\n",
    "with tf.name_scope('train'):\n",
    "    train_step = tf.train.AdamOptimizer(learning_rate).minimize(cross_entropy)\n",
    "with tf.name_scope('accuracy'):\n",
    "    with tf.name_scope('correct_prediction'):\n",
    "        correct_prediction = tf.equal(tf.argmax(y,1),tf.argmax(y_,1))\n",
    "    with tf.name_scope('accuracy'):\n",
    "        accuracy = tf.reduce_mean(tf.cast(correct_prediction,tf.float32))\n",
    "tf.summary.scalar('accuracy',accuracy)"
   ]
  },
  {
   "cell_type": "code",
   "execution_count": 12,
   "metadata": {
    "collapsed": true
   },
   "outputs": [],
   "source": [
    "merged = tf.summary.merge_all()\n",
    "train_writer = tf.summary.FileWriter(log_dir + '/train',sess.graph)\n",
    "test_writer = tf.summary.FileWriter(log_dir + '/test')\n",
    "tf.global_variables_initializer().run()"
   ]
  },
  {
   "cell_type": "code",
   "execution_count": 13,
   "metadata": {
    "collapsed": true
   },
   "outputs": [],
   "source": [
    "def feed_dict(train):\n",
    "    if train:\n",
    "        xs,ys = mnist.train.next_batch(100)\n",
    "        k = dropout\n",
    "    else:\n",
    "        xs,ys = mnist.test.images,mnist.test.labels\n",
    "        k = 1.0\n",
    "    return {x:xs,y_:ys,keep_prob:k}"
   ]
  },
  {
   "cell_type": "code",
   "execution_count": 14,
   "metadata": {},
   "outputs": [
    {
     "name": "stdout",
     "output_type": "stream",
     "text": [
      "Accuracy at step 0 : 0.095\n",
      "Accuracy at step 10 : 0.7409\n",
      "Accuracy at step 20 : 0.8434\n",
      "Accuracy at step 30 : 0.8661\n",
      "Accuracy at step 40 : 0.8883\n",
      "Accuracy at step 50 : 0.8956\n",
      "Accuracy at step 60 : 0.898\n",
      "Accuracy at step 70 : 0.9087\n",
      "Accuracy at step 80 : 0.9094\n",
      "Accuracy at step 90 : 0.9155\n",
      "Adding run metadata for 99\n",
      "Accuracy at step 100 : 0.9144\n",
      "Accuracy at step 110 : 0.9216\n",
      "Accuracy at step 120 : 0.9223\n",
      "Accuracy at step 130 : 0.9275\n",
      "Accuracy at step 140 : 0.9284\n",
      "Accuracy at step 150 : 0.9311\n",
      "Accuracy at step 160 : 0.9257\n",
      "Accuracy at step 170 : 0.9284\n",
      "Accuracy at step 180 : 0.928\n",
      "Accuracy at step 190 : 0.9319\n",
      "Adding run metadata for 199\n",
      "Accuracy at step 200 : 0.9303\n",
      "Accuracy at step 210 : 0.9335\n",
      "Accuracy at step 220 : 0.9387\n",
      "Accuracy at step 230 : 0.9358\n",
      "Accuracy at step 240 : 0.9399\n",
      "Accuracy at step 250 : 0.9387\n",
      "Accuracy at step 260 : 0.9431\n",
      "Accuracy at step 270 : 0.9443\n",
      "Accuracy at step 280 : 0.9404\n",
      "Accuracy at step 290 : 0.9452\n",
      "Adding run metadata for 299\n",
      "Accuracy at step 300 : 0.9466\n",
      "Accuracy at step 310 : 0.9466\n",
      "Accuracy at step 320 : 0.9474\n",
      "Accuracy at step 330 : 0.9484\n",
      "Accuracy at step 340 : 0.9509\n",
      "Accuracy at step 350 : 0.9502\n",
      "Accuracy at step 360 : 0.951\n",
      "Accuracy at step 370 : 0.9507\n",
      "Accuracy at step 380 : 0.9533\n",
      "Accuracy at step 390 : 0.9545\n",
      "Adding run metadata for 399\n",
      "Accuracy at step 400 : 0.9525\n",
      "Accuracy at step 410 : 0.9512\n",
      "Accuracy at step 420 : 0.9529\n",
      "Accuracy at step 430 : 0.9548\n",
      "Accuracy at step 440 : 0.9537\n",
      "Accuracy at step 450 : 0.9536\n",
      "Accuracy at step 460 : 0.954\n",
      "Accuracy at step 470 : 0.9552\n",
      "Accuracy at step 480 : 0.9537\n",
      "Accuracy at step 490 : 0.9563\n",
      "Adding run metadata for 499\n",
      "Accuracy at step 500 : 0.9557\n",
      "Accuracy at step 510 : 0.9584\n",
      "Accuracy at step 520 : 0.956\n",
      "Accuracy at step 530 : 0.9617\n",
      "Accuracy at step 540 : 0.9592\n",
      "Accuracy at step 550 : 0.9565\n",
      "Accuracy at step 560 : 0.9612\n",
      "Accuracy at step 570 : 0.9589\n",
      "Accuracy at step 580 : 0.9577\n",
      "Accuracy at step 590 : 0.9603\n",
      "Adding run metadata for 599\n",
      "Accuracy at step 600 : 0.9604\n",
      "Accuracy at step 610 : 0.9601\n",
      "Accuracy at step 620 : 0.9644\n",
      "Accuracy at step 630 : 0.9621\n",
      "Accuracy at step 640 : 0.9635\n",
      "Accuracy at step 650 : 0.9645\n",
      "Accuracy at step 660 : 0.9645\n",
      "Accuracy at step 670 : 0.964\n",
      "Accuracy at step 680 : 0.9632\n",
      "Accuracy at step 690 : 0.9586\n",
      "Adding run metadata for 699\n",
      "Accuracy at step 700 : 0.9588\n",
      "Accuracy at step 710 : 0.9621\n",
      "Accuracy at step 720 : 0.9617\n",
      "Accuracy at step 730 : 0.9627\n",
      "Accuracy at step 740 : 0.9656\n",
      "Accuracy at step 750 : 0.9651\n",
      "Accuracy at step 760 : 0.9639\n",
      "Accuracy at step 770 : 0.9635\n",
      "Accuracy at step 780 : 0.9675\n",
      "Accuracy at step 790 : 0.966\n",
      "Adding run metadata for 799\n",
      "Accuracy at step 800 : 0.9665\n",
      "Accuracy at step 810 : 0.9651\n",
      "Accuracy at step 820 : 0.9645\n",
      "Accuracy at step 830 : 0.9674\n",
      "Accuracy at step 840 : 0.9652\n",
      "Accuracy at step 850 : 0.9655\n",
      "Accuracy at step 860 : 0.9646\n",
      "Accuracy at step 870 : 0.9672\n",
      "Accuracy at step 880 : 0.9679\n",
      "Accuracy at step 890 : 0.9679\n",
      "Adding run metadata for 899\n",
      "Accuracy at step 900 : 0.967\n",
      "Accuracy at step 910 : 0.9673\n",
      "Accuracy at step 920 : 0.9683\n",
      "Accuracy at step 930 : 0.9675\n",
      "Accuracy at step 940 : 0.9661\n",
      "Accuracy at step 950 : 0.9672\n",
      "Accuracy at step 960 : 0.9635\n",
      "Accuracy at step 970 : 0.9671\n",
      "Accuracy at step 980 : 0.9686\n",
      "Accuracy at step 990 : 0.9666\n",
      "Adding run metadata for 999\n"
     ]
    }
   ],
   "source": [
    "saver = tf.train.Saver()\n",
    "for i in range(max_steps):\n",
    "    if i % 10 == 0:\n",
    "        summary,acc = sess.run([merged,accuracy],feed_dict=feed_dict(False))\n",
    "        test_writer.add_summary(summary,i)\n",
    "        print('Accuracy at step %s : %s' % (i,acc))\n",
    "    else:\n",
    "        if i % 100 == 99:\n",
    "            run_options = tf.RunOptions(trace_level=tf.RunOptions.FULL_TRACE)\n",
    "            run_metadata = tf.RunMetadata()\n",
    "            summary,_ = sess.run([merged,train_step],feed_dict=feed_dict(True),\n",
    "                                options=run_options,run_metadata=run_metadata)\n",
    "            train_writer.add_run_metadata(run_metadata,'step%03d'%i)\n",
    "            train_writer.add_summary(summary,i)\n",
    "            saver.save(sess,log_dir+\"/model.ckpt\",i)\n",
    "            print('Adding run metadata for', i)\n",
    "        else:\n",
    "            summary,_ = sess.run([merged,train_step],feed_dict=feed_dict(True))\n",
    "            train_writer.add_summary(summary,i)\n",
    "train_writer.close()\n",
    "test_writer.close()"
   ]
  },
  {
   "cell_type": "code",
   "execution_count": null,
   "metadata": {
    "collapsed": true
   },
   "outputs": [],
   "source": []
  }
 ],
 "metadata": {
  "kernelspec": {
   "display_name": "Python 3",
   "language": "python",
   "name": "python3"
  },
  "language_info": {
   "codemirror_mode": {
    "name": "ipython",
    "version": 3
   },
   "file_extension": ".py",
   "mimetype": "text/x-python",
   "name": "python",
   "nbconvert_exporter": "python",
   "pygments_lexer": "ipython3",
   "version": "3.6.1"
  }
 },
 "nbformat": 4,
 "nbformat_minor": 2
}
