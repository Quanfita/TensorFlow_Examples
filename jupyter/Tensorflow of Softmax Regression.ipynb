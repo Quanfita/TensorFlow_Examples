{
 "cells": [
  {
   "cell_type": "code",
   "execution_count": 3,
   "metadata": {},
   "outputs": [
    {
     "name": "stdout",
     "output_type": "stream",
     "text": [
      "Successfully downloaded train-images-idx3-ubyte.gz 9912422 bytes.\n",
      "Extracting MNIST_data/train-images-idx3-ubyte.gz\n",
      "Successfully downloaded train-labels-idx1-ubyte.gz 28881 bytes.\n",
      "Extracting MNIST_data/train-labels-idx1-ubyte.gz\n",
      "Successfully downloaded t10k-images-idx3-ubyte.gz 1648877 bytes.\n",
      "Extracting MNIST_data/t10k-images-idx3-ubyte.gz\n",
      "Successfully downloaded t10k-labels-idx1-ubyte.gz 4542 bytes.\n",
      "Extracting MNIST_data/t10k-labels-idx1-ubyte.gz\n"
     ]
    }
   ],
   "source": [
    "#加载MNIST数据\n",
    "from tensorflow.examples.tutorials.mnist import input_data\n",
    "mnist = input_data.read_data_sets(\"MNIST_data/\",one_hot=True)\n"
   ]
  },
  {
   "cell_type": "code",
   "execution_count": 4,
   "metadata": {},
   "outputs": [
    {
     "name": "stdout",
     "output_type": "stream",
     "text": [
      "(55000, 784) (55000, 10)\n",
      "(10000, 784) (10000, 10)\n",
      "(5000, 784) (5000, 10)\n"
     ]
    }
   ],
   "source": [
    "#查看数据集情况55000个样本，测试集有10000个样本，验证集有5000个样本\n",
    "print(mnist.train.images.shape,mnist.train.labels.shape)\n",
    "print(mnist.test.images.shape,mnist.test.labels.shape)\n",
    "print(mnist.validation.images.shape,mnist.validation.labels.shape)"
   ]
  },
  {
   "cell_type": "code",
   "execution_count": 5,
   "metadata": {
    "collapsed": true
   },
   "outputs": [],
   "source": [
    "#载入TensorFlow库，并创建一个新的InteractiveSession\n",
    "import tensorflow as tf\n",
    "sess = tf.InteractiveSession()\n",
    "#创建一个Placeholder，即输入数据的地方\n",
    "x = tf.placeholder(tf.float32,[None,784])#第一个参数是数据类型\n",
    "                              #第二个参数是tensor的shape也就是数据的尺寸\n",
    "#接下来给Softmax Regression模型中的weights和biases创建Variable对象\n",
    "#初始化为0\n",
    "w = tf.Variable(tf.zeros([784,10]))\n",
    "b = tf.Variable(tf.zeros([10]))\n",
    "#实现Softmax Regression算法  y = softmax(wx + b)\n",
    "y = tf.nn.softmax(tf.matmul(x,w) + b)\n",
    "#Softmax是tf.nn下的一个函数，tf.nn包含了大量网络神经网络的组件\n",
    "#tf.matmul是TensorFlow中的矩阵乘法函数"
   ]
  },
  {
   "cell_type": "code",
   "execution_count": 9,
   "metadata": {},
   "outputs": [
    {
     "name": "stdout",
     "output_type": "stream",
     "text": [
      "0.9181\n"
     ]
    }
   ],
   "source": [
    "#需要定义一个loss function来描述模型对问题的分类精度\n",
    "#loss越小，代表模型的分类结果与真实值的偏差越小，也就是模型越精确\n",
    "#对多分类问题，通常使用cross-entropy作为loss function\n",
    "#先定义一个placeholder，输入是真实的label，用来计算cross-entropy\n",
    "#tf.reduce_sum是求和\n",
    "y_ = tf.placeholder(tf.float32,[None,10])\n",
    "cross_entropy = tf.reduce_mean(-tf.reduce_sum(y_ * tf.log(y),\n",
    "                                              reduction_indices=[1]))\n",
    "#采用常见的随机梯度下降SGD\n",
    "#调用tf.train.GradientDescentOptimizer,并设置学习速率为0.5，优化目标设定为cross-entropy\n",
    "train_step = tf.train.GradientDescentOptimizer(0.5).minimize(cross_entropy)\n",
    "#使用TensorFlow的全局参数初始化器tf.global_variables_initializer,并执行run方法\n",
    "tf.global_variables_initializer().run()\n",
    "#最后开始迭代的执行训练操作train_step\n",
    "#每次都随机从训练集中抽取100条样本构成一个mini-batch，并feed给placeholder，然后调用train_step对这些样本进行训练\n",
    "for i in range(1000):\n",
    "    batch_xs,batch_ys = mnist.train.next_batch(100)\n",
    "    train_step.run({x:batch_xs,y_:batch_ys})\n",
    "#完成训练后，就可以对模型的准确率进行验证\n",
    "#tf.argmax是从一个tensor中寻找最大值的序号\n",
    "#tf.equal方法是用来判断预测数字类别是否是正确的类别\n",
    "correct_prediction = tf.equal(tf.argmax(y,1),tf.argmax(y_,1))\n",
    "#统计全部样本预测的accuracy，需要先用tf.cast将之前的correct_prediction输出的bool值转化为float32，再求平均\n",
    "accuracy = tf.reduce_mean(tf.cast(correct_prediction,tf.float32))\n",
    "#计算模型在测试集上的准确率，再将结果打印出来\n",
    "print(accuracy.eval({x:mnist.test.images,y_:mnist.test.labels}))"
   ]
  },
  {
   "cell_type": "code",
   "execution_count": null,
   "metadata": {
    "collapsed": true
   },
   "outputs": [],
   "source": []
  }
 ],
 "metadata": {
  "kernelspec": {
   "display_name": "Python 3",
   "language": "python",
   "name": "python3"
  },
  "language_info": {
   "codemirror_mode": {
    "name": "ipython",
    "version": 3
   },
   "file_extension": ".py",
   "mimetype": "text/x-python",
   "name": "python",
   "nbconvert_exporter": "python",
   "pygments_lexer": "ipython3",
   "version": "3.6.1"
  }
 },
 "nbformat": 4,
 "nbformat_minor": 2
}
